{
 "cells": [
  {
   "attachments": {},
   "cell_type": "markdown",
   "metadata": {},
   "source": [
    "[En français](../use-case-oafeat-en/)  \n",
    "\n",
    "![ECCC logo](https://eccc-msc.github.io/open-data/img_eccc-logo.png)  \n",
    "\n",
    "[TOC](https://eccc-msc.github.io/open-data/readme_en/) > [Usage overview](https://eccc-msc.github.io/open-data/usage/readme_en/) > OGC API - Features request in Python\n",
    "\n",
    "# Use case: Tracking water level with GeoMet-OGC-API\n",
    "\n",
    "## Introduction\n",
    "\n",
    "Hydrometric data from the Meteorological Service of Canada (MSC) and Environment and Climate Change Canada (ECCC) can be easily accessed via [GeoMet-OGC-API](https://geo.weather.gc.ca/geomet/features/?f=html). The [OGC API - Features](https://eccc-msc.github.io/open-data/msc-geomet/web-services_en/#ogc-api-features) web services available in [GeoMet-OGC-API](https://geo.weather.gc.ca/geomet/features/?f=html) offer the capability to query vector geospatial data and retrieve it in a GeoJSON format. The GeoJSON file can than be used for display or further data processing. This use case will show you how you can:\n",
    "* Query and retrieve vector geospatial data from [GeoMet-OGC-API](https://geo.weather.gc.ca/geomet/features/?f=html) with [Python](https://www.python.org/)\n",
    "* Display the retrieved data on a web map\n",
    "* Analyse the data and display the results in graphic and tabular format\n",
    "* Export the data in a format of your choice\n",
    "\n",
    "An [interactive version of this Jupyter Notebook is available](https://mybinder.org/v2/gh/marieevelb/oafeat-use-case/main?filepath=docs%2Fuse-case-oafeat-en.ipynb)\n",
    "\n",
    "[![badge](https://img.shields.io/badge/Interactive%20version-binder-F5A252.svg?logo=data:image/png;base64,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)](https://mybinder.org/v2/gh/marieevelb/oafeat-use-case/main?filepath=docs%2Fuse-case-oafeat-en.ipynb)\n",
    "\n",
    "## Creation of a tool to track water level \n",
    "\n",
    "Cathy runs a boat tours and water sports company in Chilliwack, British-Columbia. She would like to track the water level of a few hydrometric stations near her city to guide the management of the company activities. She would like to have:\n",
    "* An overview of the distribution of the daily water level of the past 3 months for all hydrometric stations located within 100 km of the city of Chilliwack (minimum, first quartile, median, third quartile and maximum) \n",
    "* A graphic view that presents the provisional daily mean water level of the past 3 months with a color code to indicate the water level status\n",
    "* A tabular view that shows the provisional daily mean water level of the past 3 months with the same color code\n",
    "* A web map that displays the hydrometric stations located within 100 km of the city of Chilliwack and the most recent provisional daily mean water level of these stations with the appropriate color code\n",
    "* The provisional daily mean water level of the past 3 months in a WaterML2.0 format for exportation\n",
    "\n",
    "To achieve this, the first step is to retrieve the water level data from [GeoMet-OGC-API](https://geo.weather.gc.ca/geomet/features/?f=html) with Python."
   ]
  },
  {
   "cell_type": "code",
   "execution_count": 34,
   "metadata": {},
   "outputs": [],
   "source": [
    "# Module importation\n",
    "from datetime import date\n",
    "\n",
    "from dateutil.relativedelta import relativedelta\n",
    "import pandas as pd\n",
    "from owslib.ogcapi.features import Features\n",
    "from osgeo import ogr, osr\n",
    "from plotly.offline import iplot\n",
    "from IPython.display import IFrame"
   ]
  },
  {
   "cell_type": "code",
   "execution_count": 2,
   "metadata": {},
   "outputs": [],
   "source": [
    "# Parameters\n",
    "\n",
    "# Coordinates\n",
    "lat = 49.162676\n",
    "long = -121.958943\n",
    "\n",
    "# Buffer size in kilometer\n",
    "buffer = 100\n",
    "\n",
    "# Number of months used to analyse historical data\n",
    "numMonths = 3\n",
    "\n",
    "# Prefered projection\n",
    "# NAD83 / Statistics Canada Lambert\n",
    "projection = 3347 "
   ]
  },
  {
   "cell_type": "code",
   "execution_count": 3,
   "metadata": {},
   "outputs": [],
   "source": [
    "# Generating parameters for the OGC API - Features request\n",
    "\n",
    "# Bounding box a little bigger than buffer size (1 km ≈ 0.01°)\n",
    "bbox = [str(long-(buffer/2)*0.01),\n",
    "        str(lat-(buffer/2)*0.01),\n",
    "        str(long+(buffer/2)*0.01),\n",
    "        str(lat+(buffer/2)*0.01)\n",
    "       ]\n",
    "\n",
    "# Time\n",
    "endDate = date.today()\n",
    "endDate = date(2013, 7, 20) # Available data to test the code, will not be in final use case\n",
    "startDate = endDate - relativedelta(months=numMonths)\n",
    "startDate = startDate.strftime(\"%Y-%m-%d\")\n",
    "time = f'{startDate}/{endDate}'"
   ]
  },
  {
   "cell_type": "code",
   "execution_count": 4,
   "metadata": {},
   "outputs": [],
   "source": [
    "# Retrieval of hydrometric stations data\n",
    "oafeat = Features('https://geo.weather.gc.ca/geomet/features')\n",
    "stationData = oafeat.collection_items('hydrometric-stations', \n",
    "                                      bbox=bbox, \n",
    "                                      STATUS_EN='Active')"
   ]
  },
  {
   "cell_type": "code",
   "execution_count": 5,
   "metadata": {},
   "outputs": [],
   "source": [
    "# Generating a list of stations inside the buffer zone\n",
    "\n",
    "# Set the driver\n",
    "driver = ogr.GetDriverByName('GeoJSON')\n",
    "\n",
    "# Create a datasource and get the layer\n",
    "stationData = str(stationData).replace(\"'\", '\"').replace(\"None\", \"null\")\n",
    "dataSource = driver.Open(stationData, 0) # 0 means read-only. 1 means writeable.\n",
    "layer = dataSource.GetLayer()\n",
    "\n",
    "# Identify input spatial reference system\n",
    "srsInput = layer.GetSpatialRef()\n",
    "sr = osr.SpatialReference(str(srsInput))\n",
    "epsg = sr.GetAuthorityCode(None)\n",
    "srsInput.ImportFromEPSG(int(epsg))\n",
    "\n",
    "# Spatial reference system used to project data\n",
    "srsProjected = osr.SpatialReference()\n",
    "srsProjected.ImportFromEPSG(projection)\n",
    "\n",
    "# Transformation from input srs to NAD83 / Statistics Canada Lambert\n",
    "transform = osr.CoordinateTransformation(srsInput, srsProjected)\n",
    "\n",
    "# Create a buffer to select stations\n",
    "point = ogr.Geometry(ogr.wkbPoint)\n",
    "point.AddPoint(long, lat)\n",
    "point.Transform(transform)\n",
    "pointBuffer = point.Buffer(buffer*1000) # The value must be in meters\n",
    "\n",
    "# Select the stations in the buffer zone\n",
    "stations = []\n",
    "for feature in layer:\n",
    "    geom = feature.GetGeometryRef().Clone()\n",
    "    geom.Transform(transform)\n",
    "    if geom.Intersects(pointBuffer):\n",
    "        stations.append(feature.GetField('STATION_NUMBER'))"
   ]
  },
  {
   "cell_type": "code",
   "execution_count": 6,
   "metadata": {},
   "outputs": [
    {
     "name": "stdout",
     "output_type": "stream",
     "text": [
      "18\n",
      "['08MF072', '08MF073', '08MG001', '08MG012', '08MG013', '08MG014', '08MG022', '08MH056', '08MF005', '08MH001', '08MH016', '08MH024', '08MH029', '08MF035', '08MH103', '08MH147', '08MH153', '08MH167']\n"
     ]
    }
   ],
   "source": [
    "# Temporary prints, will not be in the final use case\n",
    "print(len(stations))\n",
    "print(stations)"
   ]
  },
  {
   "cell_type": "code",
   "execution_count": 7,
   "metadata": {},
   "outputs": [],
   "source": [
    "# Retrieval of hydrometric data for each station\n",
    "\n",
    "# Dictionary that will contain a data frame for each station \n",
    "waterLevel = {}\n",
    "\n",
    "# Retrieval of the data and creation of the data frames\n",
    "for station in stations:\n",
    "    hydroData = oafeat.collection_items(\n",
    "        'hydrometric-daily-mean',\n",
    "        bbox=bbox,\n",
    "        time=time,\n",
    "        STATION_NUMBER=station\n",
    "    )\n",
    "    dates = []\n",
    "    levelValues = []\n",
    "    for feature in hydroData['features']:\n",
    "        dates.append(feature['properties']['DATE'])\n",
    "        levelValues.append(feature['properties']['LEVEL'])\n",
    "    waterLevelData = {'Daily mean': levelValues}\n",
    "    dfWaterLevel = pd.DataFrame(waterLevelData, index=dates, columns=['Daily mean'])\n",
    "    waterLevel[station] = dfWaterLevel "
   ]
  },
  {
   "cell_type": "code",
   "execution_count": 35,
   "metadata": {},
   "outputs": [
    {
     "data": {
      "application/vnd.plotly.v1+json": {
       "config": {
        "linkText": "Export to plot.ly",
        "plotlyServerURL": "https://plot.ly",
        "showLink": false
       },
       "data": [
        {
         "legendgroup": "Daily mean",
         "line": {
          "color": "gray",
          "dash": "solid"
         },
         "mode": "lines",
         "name": "Daily mean",
         "orientation": "v",
         "showlegend": true,
         "type": "scatter",
         "x": [
          "2013-04-20",
          "2013-04-21",
          "2013-04-22",
          "2013-04-23",
          "2013-04-24",
          "2013-04-25",
          "2013-04-26",
          "2013-04-27",
          "2013-04-28",
          "2013-04-29",
          "2013-04-30",
          "2013-05-01",
          "2013-05-02",
          "2013-05-03",
          "2013-05-04",
          "2013-05-05",
          "2013-05-06",
          "2013-05-07",
          "2013-05-08",
          "2013-05-09",
          "2013-05-10",
          "2013-05-11",
          "2013-05-12",
          "2013-05-13",
          "2013-05-14",
          "2013-05-15",
          "2013-05-16",
          "2013-05-17",
          "2013-05-18",
          "2013-05-19",
          "2013-05-20",
          "2013-05-21",
          "2013-05-22",
          "2013-05-23",
          "2013-05-24",
          "2013-05-25",
          "2013-05-26",
          "2013-05-27",
          "2013-05-28",
          "2013-05-29",
          "2013-05-30",
          "2013-05-31",
          "2013-06-01",
          "2013-06-02",
          "2013-06-03",
          "2013-06-04",
          "2013-06-05",
          "2013-06-06",
          "2013-06-07",
          "2013-06-08",
          "2013-06-09",
          "2013-06-10",
          "2013-06-11",
          "2013-06-12",
          "2013-06-13",
          "2013-06-14",
          "2013-06-15",
          "2013-06-16",
          "2013-06-17",
          "2013-06-18",
          "2013-06-19",
          "2013-06-20",
          "2013-06-21",
          "2013-06-22",
          "2013-06-23",
          "2013-06-24",
          "2013-06-25",
          "2013-06-26",
          "2013-06-27",
          "2013-06-28",
          "2013-06-29",
          "2013-06-30",
          "2013-07-01",
          "2013-07-02",
          "2013-07-03",
          "2013-07-04",
          "2013-07-05",
          "2013-07-06",
          "2013-07-07",
          "2013-07-08",
          "2013-07-09",
          "2013-07-10",
          "2013-07-11",
          "2013-07-12",
          "2013-07-13",
          "2013-07-14",
          "2013-07-15",
          "2013-07-16",
          "2013-07-17",
          "2013-07-18",
          "2013-07-19",
          "2013-07-20"
         ],
         "xaxis": "x",
         "y": [
          2.6480000019073486,
          2.690000057220459,
          2.5,
          2.444000005722046,
          2.507999897003174,
          2.63700008392334,
          2.825000047683716,
          3.003000020980835,
          3.0190000534057617,
          2.8469998836517334,
          2.5850000381469727,
          2.470999956130981,
          2.486000061035156,
          2.6549999713897705,
          3.009999990463257,
          3.3529999256134038,
          3.6029999256134033,
          3.6559998989105225,
          3.614000082015991,
          3.562999963760376,
          3.555999994277954,
          3.5409998893737797,
          4.416999816894531,
          4.070000171661377,
          3.67300009727478,
          3.253999948501587,
          3.135999917984009,
          3.1689999103546143,
          3.200000047683716,
          3.1519999504089355,
          3.0899999141693115,
          3.200000047683716,
          3.063999891281128,
          2.99399995803833,
          2.9170000553131104,
          2.921999931335449,
          2.875,
          2.924000024795532,
          3.2960000038146973,
          3.2809998989105225,
          3.252000093460083,
          3.121000051498413,
          3.049000024795532,
          3.0309998989105225,
          3.180000066757202,
          3.2850000858306885,
          3.4089999198913574,
          3.4549999237060547,
          3.4820001125335693,
          3.325999975204468,
          3.177000045776367,
          3.13700008392334,
          3.1070001125335693,
          3.069999933242798,
          3.0280001163482666,
          3.072000026702881,
          3.13700008392334,
          3.2950000762939453,
          3.381999969482422,
          3.3989999294281006,
          3.2850000858306885,
          3.5390000343322754,
          3.4179999828338623,
          3.296999931335449,
          3.2699999809265137,
          3.6459999084472656,
          3.5199999809265137,
          3.625999927520752,
          3.658999919891357,
          3.619999885559082,
          3.615999937057495,
          3.63700008392334,
          3.66100001335144,
          3.680999994277954,
          3.5369999408721924,
          3.367000102996826,
          3.253999948501587,
          3.1989998817443848,
          3.1760001182556152,
          3.174000024795532,
          3.184999942779541,
          3.180999994277954,
          3.0829999446868896,
          2.9200000762939453,
          2.822999954223633,
          2.8010001182556152,
          2.799999952316284,
          2.8410000801086426,
          2.941999912261963,
          2.9790000915527344,
          3.010999917984009,
          3.0290000438690186
         ],
         "yaxis": "y"
        },
        {
         "line": {
          "color": "red",
          "dash": "dash"
         },
         "mode": "lines",
         "name": "Historical max",
         "type": "scatter",
         "x": [
          "2013-04-20",
          "2013-04-21",
          "2013-04-22",
          "2013-04-23",
          "2013-04-24",
          "2013-04-25",
          "2013-04-26",
          "2013-04-27",
          "2013-04-28",
          "2013-04-29",
          "2013-04-30",
          "2013-05-01",
          "2013-05-02",
          "2013-05-03",
          "2013-05-04",
          "2013-05-05",
          "2013-05-06",
          "2013-05-07",
          "2013-05-08",
          "2013-05-09",
          "2013-05-10",
          "2013-05-11",
          "2013-05-12",
          "2013-05-13",
          "2013-05-14",
          "2013-05-15",
          "2013-05-16",
          "2013-05-17",
          "2013-05-18",
          "2013-05-19",
          "2013-05-20",
          "2013-05-21",
          "2013-05-22",
          "2013-05-23",
          "2013-05-24",
          "2013-05-25",
          "2013-05-26",
          "2013-05-27",
          "2013-05-28",
          "2013-05-29",
          "2013-05-30",
          "2013-05-31",
          "2013-06-01",
          "2013-06-02",
          "2013-06-03",
          "2013-06-04",
          "2013-06-05",
          "2013-06-06",
          "2013-06-07",
          "2013-06-08",
          "2013-06-09",
          "2013-06-10",
          "2013-06-11",
          "2013-06-12",
          "2013-06-13",
          "2013-06-14",
          "2013-06-15",
          "2013-06-16",
          "2013-06-17",
          "2013-06-18",
          "2013-06-19",
          "2013-06-20",
          "2013-06-21",
          "2013-06-22",
          "2013-06-23",
          "2013-06-24",
          "2013-06-25",
          "2013-06-26",
          "2013-06-27",
          "2013-06-28",
          "2013-06-29",
          "2013-06-30",
          "2013-07-01",
          "2013-07-02",
          "2013-07-03",
          "2013-07-04",
          "2013-07-05",
          "2013-07-06",
          "2013-07-07",
          "2013-07-08",
          "2013-07-09",
          "2013-07-10",
          "2013-07-11",
          "2013-07-12",
          "2013-07-13",
          "2013-07-14",
          "2013-07-15",
          "2013-07-16",
          "2013-07-17",
          "2013-07-18",
          "2013-07-19",
          "2013-07-20"
         ],
         "y": [
          4.416999816894531,
          4.416999816894531,
          4.416999816894531,
          4.416999816894531,
          4.416999816894531,
          4.416999816894531,
          4.416999816894531,
          4.416999816894531,
          4.416999816894531,
          4.416999816894531,
          4.416999816894531,
          4.416999816894531,
          4.416999816894531,
          4.416999816894531,
          4.416999816894531,
          4.416999816894531,
          4.416999816894531,
          4.416999816894531,
          4.416999816894531,
          4.416999816894531,
          4.416999816894531,
          4.416999816894531,
          4.416999816894531,
          4.416999816894531,
          4.416999816894531,
          4.416999816894531,
          4.416999816894531,
          4.416999816894531,
          4.416999816894531,
          4.416999816894531,
          4.416999816894531,
          4.416999816894531,
          4.416999816894531,
          4.416999816894531,
          4.416999816894531,
          4.416999816894531,
          4.416999816894531,
          4.416999816894531,
          4.416999816894531,
          4.416999816894531,
          4.416999816894531,
          4.416999816894531,
          4.416999816894531,
          4.416999816894531,
          4.416999816894531,
          4.416999816894531,
          4.416999816894531,
          4.416999816894531,
          4.416999816894531,
          4.416999816894531,
          4.416999816894531,
          4.416999816894531,
          4.416999816894531,
          4.416999816894531,
          4.416999816894531,
          4.416999816894531,
          4.416999816894531,
          4.416999816894531,
          4.416999816894531,
          4.416999816894531,
          4.416999816894531,
          4.416999816894531,
          4.416999816894531,
          4.416999816894531,
          4.416999816894531,
          4.416999816894531,
          4.416999816894531,
          4.416999816894531,
          4.416999816894531,
          4.416999816894531,
          4.416999816894531,
          4.416999816894531,
          4.416999816894531,
          4.416999816894531,
          4.416999816894531,
          4.416999816894531,
          4.416999816894531,
          4.416999816894531,
          4.416999816894531,
          4.416999816894531,
          4.416999816894531,
          4.416999816894531,
          4.416999816894531,
          4.416999816894531,
          4.416999816894531,
          4.416999816894531,
          4.416999816894531,
          4.416999816894531,
          4.416999816894531,
          4.416999816894531,
          4.416999816894531,
          4.416999816894531
         ]
        },
        {
         "line": {
          "color": "limegreen",
          "dash": "dash"
         },
         "mode": "lines",
         "name": "Historical min",
         "type": "scatter",
         "x": [
          "2013-04-20",
          "2013-04-21",
          "2013-04-22",
          "2013-04-23",
          "2013-04-24",
          "2013-04-25",
          "2013-04-26",
          "2013-04-27",
          "2013-04-28",
          "2013-04-29",
          "2013-04-30",
          "2013-05-01",
          "2013-05-02",
          "2013-05-03",
          "2013-05-04",
          "2013-05-05",
          "2013-05-06",
          "2013-05-07",
          "2013-05-08",
          "2013-05-09",
          "2013-05-10",
          "2013-05-11",
          "2013-05-12",
          "2013-05-13",
          "2013-05-14",
          "2013-05-15",
          "2013-05-16",
          "2013-05-17",
          "2013-05-18",
          "2013-05-19",
          "2013-05-20",
          "2013-05-21",
          "2013-05-22",
          "2013-05-23",
          "2013-05-24",
          "2013-05-25",
          "2013-05-26",
          "2013-05-27",
          "2013-05-28",
          "2013-05-29",
          "2013-05-30",
          "2013-05-31",
          "2013-06-01",
          "2013-06-02",
          "2013-06-03",
          "2013-06-04",
          "2013-06-05",
          "2013-06-06",
          "2013-06-07",
          "2013-06-08",
          "2013-06-09",
          "2013-06-10",
          "2013-06-11",
          "2013-06-12",
          "2013-06-13",
          "2013-06-14",
          "2013-06-15",
          "2013-06-16",
          "2013-06-17",
          "2013-06-18",
          "2013-06-19",
          "2013-06-20",
          "2013-06-21",
          "2013-06-22",
          "2013-06-23",
          "2013-06-24",
          "2013-06-25",
          "2013-06-26",
          "2013-06-27",
          "2013-06-28",
          "2013-06-29",
          "2013-06-30",
          "2013-07-01",
          "2013-07-02",
          "2013-07-03",
          "2013-07-04",
          "2013-07-05",
          "2013-07-06",
          "2013-07-07",
          "2013-07-08",
          "2013-07-09",
          "2013-07-10",
          "2013-07-11",
          "2013-07-12",
          "2013-07-13",
          "2013-07-14",
          "2013-07-15",
          "2013-07-16",
          "2013-07-17",
          "2013-07-18",
          "2013-07-19",
          "2013-07-20"
         ],
         "y": [
          2.444000005722046,
          2.444000005722046,
          2.444000005722046,
          2.444000005722046,
          2.444000005722046,
          2.444000005722046,
          2.444000005722046,
          2.444000005722046,
          2.444000005722046,
          2.444000005722046,
          2.444000005722046,
          2.444000005722046,
          2.444000005722046,
          2.444000005722046,
          2.444000005722046,
          2.444000005722046,
          2.444000005722046,
          2.444000005722046,
          2.444000005722046,
          2.444000005722046,
          2.444000005722046,
          2.444000005722046,
          2.444000005722046,
          2.444000005722046,
          2.444000005722046,
          2.444000005722046,
          2.444000005722046,
          2.444000005722046,
          2.444000005722046,
          2.444000005722046,
          2.444000005722046,
          2.444000005722046,
          2.444000005722046,
          2.444000005722046,
          2.444000005722046,
          2.444000005722046,
          2.444000005722046,
          2.444000005722046,
          2.444000005722046,
          2.444000005722046,
          2.444000005722046,
          2.444000005722046,
          2.444000005722046,
          2.444000005722046,
          2.444000005722046,
          2.444000005722046,
          2.444000005722046,
          2.444000005722046,
          2.444000005722046,
          2.444000005722046,
          2.444000005722046,
          2.444000005722046,
          2.444000005722046,
          2.444000005722046,
          2.444000005722046,
          2.444000005722046,
          2.444000005722046,
          2.444000005722046,
          2.444000005722046,
          2.444000005722046,
          2.444000005722046,
          2.444000005722046,
          2.444000005722046,
          2.444000005722046,
          2.444000005722046,
          2.444000005722046,
          2.444000005722046,
          2.444000005722046,
          2.444000005722046,
          2.444000005722046,
          2.444000005722046,
          2.444000005722046,
          2.444000005722046,
          2.444000005722046,
          2.444000005722046,
          2.444000005722046,
          2.444000005722046,
          2.444000005722046,
          2.444000005722046,
          2.444000005722046,
          2.444000005722046,
          2.444000005722046,
          2.444000005722046,
          2.444000005722046,
          2.444000005722046,
          2.444000005722046,
          2.444000005722046,
          2.444000005722046,
          2.444000005722046,
          2.444000005722046,
          2.444000005722046,
          2.444000005722046
         ]
        },
        {
         "line": {
          "color": "cornflowerblue",
          "dash": "solid"
         },
         "mode": "lines",
         "name": "Current value",
         "type": "scatter",
         "x": [
          "2013-04-20",
          "2013-04-21",
          "2013-04-22",
          "2013-04-23",
          "2013-04-24",
          "2013-04-25",
          "2013-04-26",
          "2013-04-27",
          "2013-04-28",
          "2013-04-29",
          "2013-04-30",
          "2013-05-01",
          "2013-05-02",
          "2013-05-03",
          "2013-05-04",
          "2013-05-05",
          "2013-05-06",
          "2013-05-07",
          "2013-05-08",
          "2013-05-09",
          "2013-05-10",
          "2013-05-11",
          "2013-05-12",
          "2013-05-13",
          "2013-05-14",
          "2013-05-15",
          "2013-05-16",
          "2013-05-17",
          "2013-05-18",
          "2013-05-19",
          "2013-05-20",
          "2013-05-21",
          "2013-05-22",
          "2013-05-23",
          "2013-05-24",
          "2013-05-25",
          "2013-05-26",
          "2013-05-27",
          "2013-05-28",
          "2013-05-29",
          "2013-05-30",
          "2013-05-31",
          "2013-06-01",
          "2013-06-02",
          "2013-06-03",
          "2013-06-04",
          "2013-06-05",
          "2013-06-06",
          "2013-06-07",
          "2013-06-08",
          "2013-06-09",
          "2013-06-10",
          "2013-06-11",
          "2013-06-12",
          "2013-06-13",
          "2013-06-14",
          "2013-06-15",
          "2013-06-16",
          "2013-06-17",
          "2013-06-18",
          "2013-06-19",
          "2013-06-20",
          "2013-06-21",
          "2013-06-22",
          "2013-06-23",
          "2013-06-24",
          "2013-06-25",
          "2013-06-26",
          "2013-06-27",
          "2013-06-28",
          "2013-06-29",
          "2013-06-30",
          "2013-07-01",
          "2013-07-02",
          "2013-07-03",
          "2013-07-04",
          "2013-07-05",
          "2013-07-06",
          "2013-07-07",
          "2013-07-08",
          "2013-07-09",
          "2013-07-10",
          "2013-07-11",
          "2013-07-12",
          "2013-07-13",
          "2013-07-14",
          "2013-07-15",
          "2013-07-16",
          "2013-07-17",
          "2013-07-18",
          "2013-07-19",
          "2013-07-20"
         ],
         "y": [
          3.0290000438690186,
          3.0290000438690186,
          3.0290000438690186,
          3.0290000438690186,
          3.0290000438690186,
          3.0290000438690186,
          3.0290000438690186,
          3.0290000438690186,
          3.0290000438690186,
          3.0290000438690186,
          3.0290000438690186,
          3.0290000438690186,
          3.0290000438690186,
          3.0290000438690186,
          3.0290000438690186,
          3.0290000438690186,
          3.0290000438690186,
          3.0290000438690186,
          3.0290000438690186,
          3.0290000438690186,
          3.0290000438690186,
          3.0290000438690186,
          3.0290000438690186,
          3.0290000438690186,
          3.0290000438690186,
          3.0290000438690186,
          3.0290000438690186,
          3.0290000438690186,
          3.0290000438690186,
          3.0290000438690186,
          3.0290000438690186,
          3.0290000438690186,
          3.0290000438690186,
          3.0290000438690186,
          3.0290000438690186,
          3.0290000438690186,
          3.0290000438690186,
          3.0290000438690186,
          3.0290000438690186,
          3.0290000438690186,
          3.0290000438690186,
          3.0290000438690186,
          3.0290000438690186,
          3.0290000438690186,
          3.0290000438690186,
          3.0290000438690186,
          3.0290000438690186,
          3.0290000438690186,
          3.0290000438690186,
          3.0290000438690186,
          3.0290000438690186,
          3.0290000438690186,
          3.0290000438690186,
          3.0290000438690186,
          3.0290000438690186,
          3.0290000438690186,
          3.0290000438690186,
          3.0290000438690186,
          3.0290000438690186,
          3.0290000438690186,
          3.0290000438690186,
          3.0290000438690186,
          3.0290000438690186,
          3.0290000438690186,
          3.0290000438690186,
          3.0290000438690186,
          3.0290000438690186,
          3.0290000438690186,
          3.0290000438690186,
          3.0290000438690186,
          3.0290000438690186,
          3.0290000438690186,
          3.0290000438690186,
          3.0290000438690186,
          3.0290000438690186,
          3.0290000438690186,
          3.0290000438690186,
          3.0290000438690186,
          3.0290000438690186,
          3.0290000438690186,
          3.0290000438690186,
          3.0290000438690186,
          3.0290000438690186,
          3.0290000438690186,
          3.0290000438690186,
          3.0290000438690186,
          3.0290000438690186,
          3.0290000438690186,
          3.0290000438690186,
          3.0290000438690186,
          3.0290000438690186,
          3.0290000438690186
         ]
        }
       ],
       "layout": {
        "hovermode": "x unified",
        "legend": {
         "title": {
          "text": "Variable"
         },
         "tracegroupgap": 0
        },
        "template": {
         "data": {
          "bar": [
           {
            "error_x": {
             "color": "#2a3f5f"
            },
            "error_y": {
             "color": "#2a3f5f"
            },
            "marker": {
             "line": {
              "color": "white",
              "width": 0.5
             }
            },
            "type": "bar"
           }
          ],
          "barpolar": [
           {
            "marker": {
             "line": {
              "color": "white",
              "width": 0.5
             }
            },
            "type": "barpolar"
           }
          ],
          "carpet": [
           {
            "aaxis": {
             "endlinecolor": "#2a3f5f",
             "gridcolor": "#C8D4E3",
             "linecolor": "#C8D4E3",
             "minorgridcolor": "#C8D4E3",
             "startlinecolor": "#2a3f5f"
            },
            "baxis": {
             "endlinecolor": "#2a3f5f",
             "gridcolor": "#C8D4E3",
             "linecolor": "#C8D4E3",
             "minorgridcolor": "#C8D4E3",
             "startlinecolor": "#2a3f5f"
            },
            "type": "carpet"
           }
          ],
          "choropleth": [
           {
            "colorbar": {
             "outlinewidth": 0,
             "ticks": ""
            },
            "type": "choropleth"
           }
          ],
          "contour": [
           {
            "colorbar": {
             "outlinewidth": 0,
             "ticks": ""
            },
            "colorscale": [
             [
              0,
              "#0d0887"
             ],
             [
              0.1111111111111111,
              "#46039f"
             ],
             [
              0.2222222222222222,
              "#7201a8"
             ],
             [
              0.3333333333333333,
              "#9c179e"
             ],
             [
              0.4444444444444444,
              "#bd3786"
             ],
             [
              0.5555555555555556,
              "#d8576b"
             ],
             [
              0.6666666666666666,
              "#ed7953"
             ],
             [
              0.7777777777777778,
              "#fb9f3a"
             ],
             [
              0.8888888888888888,
              "#fdca26"
             ],
             [
              1,
              "#f0f921"
             ]
            ],
            "type": "contour"
           }
          ],
          "contourcarpet": [
           {
            "colorbar": {
             "outlinewidth": 0,
             "ticks": ""
            },
            "type": "contourcarpet"
           }
          ],
          "heatmap": [
           {
            "colorbar": {
             "outlinewidth": 0,
             "ticks": ""
            },
            "colorscale": [
             [
              0,
              "#0d0887"
             ],
             [
              0.1111111111111111,
              "#46039f"
             ],
             [
              0.2222222222222222,
              "#7201a8"
             ],
             [
              0.3333333333333333,
              "#9c179e"
             ],
             [
              0.4444444444444444,
              "#bd3786"
             ],
             [
              0.5555555555555556,
              "#d8576b"
             ],
             [
              0.6666666666666666,
              "#ed7953"
             ],
             [
              0.7777777777777778,
              "#fb9f3a"
             ],
             [
              0.8888888888888888,
              "#fdca26"
             ],
             [
              1,
              "#f0f921"
             ]
            ],
            "type": "heatmap"
           }
          ],
          "heatmapgl": [
           {
            "colorbar": {
             "outlinewidth": 0,
             "ticks": ""
            },
            "colorscale": [
             [
              0,
              "#0d0887"
             ],
             [
              0.1111111111111111,
              "#46039f"
             ],
             [
              0.2222222222222222,
              "#7201a8"
             ],
             [
              0.3333333333333333,
              "#9c179e"
             ],
             [
              0.4444444444444444,
              "#bd3786"
             ],
             [
              0.5555555555555556,
              "#d8576b"
             ],
             [
              0.6666666666666666,
              "#ed7953"
             ],
             [
              0.7777777777777778,
              "#fb9f3a"
             ],
             [
              0.8888888888888888,
              "#fdca26"
             ],
             [
              1,
              "#f0f921"
             ]
            ],
            "type": "heatmapgl"
           }
          ],
          "histogram": [
           {
            "marker": {
             "colorbar": {
              "outlinewidth": 0,
              "ticks": ""
             }
            },
            "type": "histogram"
           }
          ],
          "histogram2d": [
           {
            "colorbar": {
             "outlinewidth": 0,
             "ticks": ""
            },
            "colorscale": [
             [
              0,
              "#0d0887"
             ],
             [
              0.1111111111111111,
              "#46039f"
             ],
             [
              0.2222222222222222,
              "#7201a8"
             ],
             [
              0.3333333333333333,
              "#9c179e"
             ],
             [
              0.4444444444444444,
              "#bd3786"
             ],
             [
              0.5555555555555556,
              "#d8576b"
             ],
             [
              0.6666666666666666,
              "#ed7953"
             ],
             [
              0.7777777777777778,
              "#fb9f3a"
             ],
             [
              0.8888888888888888,
              "#fdca26"
             ],
             [
              1,
              "#f0f921"
             ]
            ],
            "type": "histogram2d"
           }
          ],
          "histogram2dcontour": [
           {
            "colorbar": {
             "outlinewidth": 0,
             "ticks": ""
            },
            "colorscale": [
             [
              0,
              "#0d0887"
             ],
             [
              0.1111111111111111,
              "#46039f"
             ],
             [
              0.2222222222222222,
              "#7201a8"
             ],
             [
              0.3333333333333333,
              "#9c179e"
             ],
             [
              0.4444444444444444,
              "#bd3786"
             ],
             [
              0.5555555555555556,
              "#d8576b"
             ],
             [
              0.6666666666666666,
              "#ed7953"
             ],
             [
              0.7777777777777778,
              "#fb9f3a"
             ],
             [
              0.8888888888888888,
              "#fdca26"
             ],
             [
              1,
              "#f0f921"
             ]
            ],
            "type": "histogram2dcontour"
           }
          ],
          "mesh3d": [
           {
            "colorbar": {
             "outlinewidth": 0,
             "ticks": ""
            },
            "type": "mesh3d"
           }
          ],
          "parcoords": [
           {
            "line": {
             "colorbar": {
              "outlinewidth": 0,
              "ticks": ""
             }
            },
            "type": "parcoords"
           }
          ],
          "pie": [
           {
            "automargin": true,
            "type": "pie"
           }
          ],
          "scatter": [
           {
            "marker": {
             "colorbar": {
              "outlinewidth": 0,
              "ticks": ""
             }
            },
            "type": "scatter"
           }
          ],
          "scatter3d": [
           {
            "line": {
             "colorbar": {
              "outlinewidth": 0,
              "ticks": ""
             }
            },
            "marker": {
             "colorbar": {
              "outlinewidth": 0,
              "ticks": ""
             }
            },
            "type": "scatter3d"
           }
          ],
          "scattercarpet": [
           {
            "marker": {
             "colorbar": {
              "outlinewidth": 0,
              "ticks": ""
             }
            },
            "type": "scattercarpet"
           }
          ],
          "scattergeo": [
           {
            "marker": {
             "colorbar": {
              "outlinewidth": 0,
              "ticks": ""
             }
            },
            "type": "scattergeo"
           }
          ],
          "scattergl": [
           {
            "marker": {
             "colorbar": {
              "outlinewidth": 0,
              "ticks": ""
             }
            },
            "type": "scattergl"
           }
          ],
          "scattermapbox": [
           {
            "marker": {
             "colorbar": {
              "outlinewidth": 0,
              "ticks": ""
             }
            },
            "type": "scattermapbox"
           }
          ],
          "scatterpolar": [
           {
            "marker": {
             "colorbar": {
              "outlinewidth": 0,
              "ticks": ""
             }
            },
            "type": "scatterpolar"
           }
          ],
          "scatterpolargl": [
           {
            "marker": {
             "colorbar": {
              "outlinewidth": 0,
              "ticks": ""
             }
            },
            "type": "scatterpolargl"
           }
          ],
          "scatterternary": [
           {
            "marker": {
             "colorbar": {
              "outlinewidth": 0,
              "ticks": ""
             }
            },
            "type": "scatterternary"
           }
          ],
          "surface": [
           {
            "colorbar": {
             "outlinewidth": 0,
             "ticks": ""
            },
            "colorscale": [
             [
              0,
              "#0d0887"
             ],
             [
              0.1111111111111111,
              "#46039f"
             ],
             [
              0.2222222222222222,
              "#7201a8"
             ],
             [
              0.3333333333333333,
              "#9c179e"
             ],
             [
              0.4444444444444444,
              "#bd3786"
             ],
             [
              0.5555555555555556,
              "#d8576b"
             ],
             [
              0.6666666666666666,
              "#ed7953"
             ],
             [
              0.7777777777777778,
              "#fb9f3a"
             ],
             [
              0.8888888888888888,
              "#fdca26"
             ],
             [
              1,
              "#f0f921"
             ]
            ],
            "type": "surface"
           }
          ],
          "table": [
           {
            "cells": {
             "fill": {
              "color": "#EBF0F8"
             },
             "line": {
              "color": "white"
             }
            },
            "header": {
             "fill": {
              "color": "#C8D4E3"
             },
             "line": {
              "color": "white"
             }
            },
            "type": "table"
           }
          ]
         },
         "layout": {
          "annotationdefaults": {
           "arrowcolor": "#2a3f5f",
           "arrowhead": 0,
           "arrowwidth": 1
          },
          "autotypenumbers": "strict",
          "coloraxis": {
           "colorbar": {
            "outlinewidth": 0,
            "ticks": ""
           }
          },
          "colorscale": {
           "diverging": [
            [
             0,
             "#8e0152"
            ],
            [
             0.1,
             "#c51b7d"
            ],
            [
             0.2,
             "#de77ae"
            ],
            [
             0.3,
             "#f1b6da"
            ],
            [
             0.4,
             "#fde0ef"
            ],
            [
             0.5,
             "#f7f7f7"
            ],
            [
             0.6,
             "#e6f5d0"
            ],
            [
             0.7,
             "#b8e186"
            ],
            [
             0.8,
             "#7fbc41"
            ],
            [
             0.9,
             "#4d9221"
            ],
            [
             1,
             "#276419"
            ]
           ],
           "sequential": [
            [
             0,
             "#0d0887"
            ],
            [
             0.1111111111111111,
             "#46039f"
            ],
            [
             0.2222222222222222,
             "#7201a8"
            ],
            [
             0.3333333333333333,
             "#9c179e"
            ],
            [
             0.4444444444444444,
             "#bd3786"
            ],
            [
             0.5555555555555556,
             "#d8576b"
            ],
            [
             0.6666666666666666,
             "#ed7953"
            ],
            [
             0.7777777777777778,
             "#fb9f3a"
            ],
            [
             0.8888888888888888,
             "#fdca26"
            ],
            [
             1,
             "#f0f921"
            ]
           ],
           "sequentialminus": [
            [
             0,
             "#0d0887"
            ],
            [
             0.1111111111111111,
             "#46039f"
            ],
            [
             0.2222222222222222,
             "#7201a8"
            ],
            [
             0.3333333333333333,
             "#9c179e"
            ],
            [
             0.4444444444444444,
             "#bd3786"
            ],
            [
             0.5555555555555556,
             "#d8576b"
            ],
            [
             0.6666666666666666,
             "#ed7953"
            ],
            [
             0.7777777777777778,
             "#fb9f3a"
            ],
            [
             0.8888888888888888,
             "#fdca26"
            ],
            [
             1,
             "#f0f921"
            ]
           ]
          },
          "colorway": [
           "#636efa",
           "#EF553B",
           "#00cc96",
           "#ab63fa",
           "#FFA15A",
           "#19d3f3",
           "#FF6692",
           "#B6E880",
           "#FF97FF",
           "#FECB52"
          ],
          "font": {
           "color": "#2a3f5f"
          },
          "geo": {
           "bgcolor": "white",
           "lakecolor": "white",
           "landcolor": "white",
           "showlakes": true,
           "showland": true,
           "subunitcolor": "#C8D4E3"
          },
          "hoverlabel": {
           "align": "left"
          },
          "hovermode": "closest",
          "mapbox": {
           "style": "light"
          },
          "paper_bgcolor": "white",
          "plot_bgcolor": "white",
          "polar": {
           "angularaxis": {
            "gridcolor": "#EBF0F8",
            "linecolor": "#EBF0F8",
            "ticks": ""
           },
           "bgcolor": "white",
           "radialaxis": {
            "gridcolor": "#EBF0F8",
            "linecolor": "#EBF0F8",
            "ticks": ""
           }
          },
          "scene": {
           "xaxis": {
            "backgroundcolor": "white",
            "gridcolor": "#DFE8F3",
            "gridwidth": 2,
            "linecolor": "#EBF0F8",
            "showbackground": true,
            "ticks": "",
            "zerolinecolor": "#EBF0F8"
           },
           "yaxis": {
            "backgroundcolor": "white",
            "gridcolor": "#DFE8F3",
            "gridwidth": 2,
            "linecolor": "#EBF0F8",
            "showbackground": true,
            "ticks": "",
            "zerolinecolor": "#EBF0F8"
           },
           "zaxis": {
            "backgroundcolor": "white",
            "gridcolor": "#DFE8F3",
            "gridwidth": 2,
            "linecolor": "#EBF0F8",
            "showbackground": true,
            "ticks": "",
            "zerolinecolor": "#EBF0F8"
           }
          },
          "shapedefaults": {
           "line": {
            "color": "#2a3f5f"
           }
          },
          "ternary": {
           "aaxis": {
            "gridcolor": "#DFE8F3",
            "linecolor": "#A2B1C6",
            "ticks": ""
           },
           "baxis": {
            "gridcolor": "#DFE8F3",
            "linecolor": "#A2B1C6",
            "ticks": ""
           },
           "bgcolor": "white",
           "caxis": {
            "gridcolor": "#DFE8F3",
            "linecolor": "#A2B1C6",
            "ticks": ""
           }
          },
          "title": {
           "x": 0.05
          },
          "xaxis": {
           "automargin": true,
           "gridcolor": "#EBF0F8",
           "linecolor": "#EBF0F8",
           "ticks": "",
           "title": {
            "standoff": 15
           },
           "zerolinecolor": "#EBF0F8",
           "zerolinewidth": 2
          },
          "yaxis": {
           "automargin": true,
           "gridcolor": "#EBF0F8",
           "linecolor": "#EBF0F8",
           "ticks": "",
           "title": {
            "standoff": 15
           },
           "zerolinecolor": "#EBF0F8",
           "zerolinewidth": 2
          }
         }
        },
        "title": {
         "text": "Water level at station 08MH147"
        },
        "xaxis": {
         "anchor": "y",
         "domain": [
          0,
          1
         ],
         "title": {
          "text": "Date"
         }
        },
        "yaxis": {
         "anchor": "x",
         "domain": [
          0,
          1
         ],
         "range": [
          2.344000005722046,
          4.516999816894531
         ],
         "title": {
          "text": "Water level (m)"
         }
        }
       }
      },
      "text/html": [
       "<div>                            <div id=\"879a27cd-269e-4964-af67-5467000a2c0c\" class=\"plotly-graph-div\" style=\"height:525px; width:100%;\"></div>            <script type=\"text/javascript\">                require([\"plotly\"], function(Plotly) {                    window.PLOTLYENV=window.PLOTLYENV || {};                                    if (document.getElementById(\"879a27cd-269e-4964-af67-5467000a2c0c\")) {                    Plotly.newPlot(                        \"879a27cd-269e-4964-af67-5467000a2c0c\",                        [{\"legendgroup\": \"Daily mean\", \"line\": {\"color\": \"gray\", \"dash\": \"solid\"}, \"mode\": \"lines\", \"name\": \"Daily mean\", \"orientation\": \"v\", \"showlegend\": true, \"type\": \"scatter\", \"x\": [\"2013-04-20\", \"2013-04-21\", \"2013-04-22\", \"2013-04-23\", \"2013-04-24\", \"2013-04-25\", \"2013-04-26\", \"2013-04-27\", \"2013-04-28\", \"2013-04-29\", \"2013-04-30\", \"2013-05-01\", \"2013-05-02\", \"2013-05-03\", \"2013-05-04\", \"2013-05-05\", \"2013-05-06\", \"2013-05-07\", \"2013-05-08\", \"2013-05-09\", \"2013-05-10\", \"2013-05-11\", \"2013-05-12\", \"2013-05-13\", \"2013-05-14\", \"2013-05-15\", \"2013-05-16\", \"2013-05-17\", \"2013-05-18\", \"2013-05-19\", \"2013-05-20\", \"2013-05-21\", \"2013-05-22\", \"2013-05-23\", \"2013-05-24\", \"2013-05-25\", \"2013-05-26\", \"2013-05-27\", \"2013-05-28\", \"2013-05-29\", \"2013-05-30\", \"2013-05-31\", \"2013-06-01\", \"2013-06-02\", \"2013-06-03\", \"2013-06-04\", \"2013-06-05\", \"2013-06-06\", \"2013-06-07\", \"2013-06-08\", \"2013-06-09\", \"2013-06-10\", \"2013-06-11\", \"2013-06-12\", \"2013-06-13\", \"2013-06-14\", \"2013-06-15\", \"2013-06-16\", \"2013-06-17\", \"2013-06-18\", \"2013-06-19\", \"2013-06-20\", \"2013-06-21\", \"2013-06-22\", \"2013-06-23\", \"2013-06-24\", \"2013-06-25\", \"2013-06-26\", \"2013-06-27\", \"2013-06-28\", \"2013-06-29\", \"2013-06-30\", \"2013-07-01\", \"2013-07-02\", \"2013-07-03\", \"2013-07-04\", \"2013-07-05\", \"2013-07-06\", \"2013-07-07\", \"2013-07-08\", \"2013-07-09\", \"2013-07-10\", \"2013-07-11\", \"2013-07-12\", \"2013-07-13\", \"2013-07-14\", \"2013-07-15\", \"2013-07-16\", \"2013-07-17\", \"2013-07-18\", \"2013-07-19\", \"2013-07-20\"], \"xaxis\": \"x\", \"y\": [2.6480000019073486, 2.690000057220459, 2.5, 2.444000005722046, 2.507999897003174, 2.63700008392334, 2.825000047683716, 3.003000020980835, 3.0190000534057617, 2.8469998836517334, 2.5850000381469727, 2.470999956130981, 2.486000061035156, 2.6549999713897705, 3.009999990463257, 3.3529999256134038, 3.6029999256134033, 3.6559998989105225, 3.614000082015991, 3.562999963760376, 3.555999994277954, 3.5409998893737797, 4.416999816894531, 4.070000171661377, 3.67300009727478, 3.253999948501587, 3.135999917984009, 3.1689999103546143, 3.200000047683716, 3.1519999504089355, 3.0899999141693115, 3.200000047683716, 3.063999891281128, 2.99399995803833, 2.9170000553131104, 2.921999931335449, 2.875, 2.924000024795532, 3.2960000038146973, 3.2809998989105225, 3.252000093460083, 3.121000051498413, 3.049000024795532, 3.0309998989105225, 3.180000066757202, 3.2850000858306885, 3.4089999198913574, 3.4549999237060547, 3.4820001125335693, 3.325999975204468, 3.177000045776367, 3.13700008392334, 3.1070001125335693, 3.069999933242798, 3.0280001163482666, 3.072000026702881, 3.13700008392334, 3.2950000762939453, 3.381999969482422, 3.3989999294281006, 3.2850000858306885, 3.5390000343322754, 3.4179999828338623, 3.296999931335449, 3.2699999809265137, 3.6459999084472656, 3.5199999809265137, 3.625999927520752, 3.658999919891357, 3.619999885559082, 3.615999937057495, 3.63700008392334, 3.66100001335144, 3.680999994277954, 3.5369999408721924, 3.367000102996826, 3.253999948501587, 3.1989998817443848, 3.1760001182556152, 3.174000024795532, 3.184999942779541, 3.180999994277954, 3.0829999446868896, 2.9200000762939453, 2.822999954223633, 2.8010001182556152, 2.799999952316284, 2.8410000801086426, 2.941999912261963, 2.9790000915527344, 3.010999917984009, 3.0290000438690186], \"yaxis\": \"y\"}, {\"line\": {\"color\": \"red\", \"dash\": \"dash\"}, \"mode\": \"lines\", \"name\": \"Historical max\", \"type\": \"scatter\", \"x\": [\"2013-04-20\", \"2013-04-21\", \"2013-04-22\", \"2013-04-23\", \"2013-04-24\", \"2013-04-25\", \"2013-04-26\", \"2013-04-27\", \"2013-04-28\", \"2013-04-29\", \"2013-04-30\", \"2013-05-01\", \"2013-05-02\", \"2013-05-03\", \"2013-05-04\", \"2013-05-05\", \"2013-05-06\", \"2013-05-07\", \"2013-05-08\", \"2013-05-09\", \"2013-05-10\", \"2013-05-11\", \"2013-05-12\", \"2013-05-13\", \"2013-05-14\", \"2013-05-15\", \"2013-05-16\", \"2013-05-17\", \"2013-05-18\", \"2013-05-19\", \"2013-05-20\", \"2013-05-21\", \"2013-05-22\", \"2013-05-23\", \"2013-05-24\", \"2013-05-25\", \"2013-05-26\", \"2013-05-27\", \"2013-05-28\", \"2013-05-29\", \"2013-05-30\", \"2013-05-31\", \"2013-06-01\", \"2013-06-02\", \"2013-06-03\", \"2013-06-04\", \"2013-06-05\", \"2013-06-06\", \"2013-06-07\", \"2013-06-08\", \"2013-06-09\", \"2013-06-10\", \"2013-06-11\", \"2013-06-12\", \"2013-06-13\", \"2013-06-14\", \"2013-06-15\", \"2013-06-16\", \"2013-06-17\", \"2013-06-18\", \"2013-06-19\", \"2013-06-20\", \"2013-06-21\", \"2013-06-22\", \"2013-06-23\", \"2013-06-24\", \"2013-06-25\", \"2013-06-26\", \"2013-06-27\", \"2013-06-28\", \"2013-06-29\", \"2013-06-30\", \"2013-07-01\", \"2013-07-02\", \"2013-07-03\", \"2013-07-04\", \"2013-07-05\", \"2013-07-06\", \"2013-07-07\", \"2013-07-08\", \"2013-07-09\", \"2013-07-10\", \"2013-07-11\", \"2013-07-12\", \"2013-07-13\", \"2013-07-14\", \"2013-07-15\", \"2013-07-16\", \"2013-07-17\", \"2013-07-18\", \"2013-07-19\", \"2013-07-20\"], \"y\": [4.416999816894531, 4.416999816894531, 4.416999816894531, 4.416999816894531, 4.416999816894531, 4.416999816894531, 4.416999816894531, 4.416999816894531, 4.416999816894531, 4.416999816894531, 4.416999816894531, 4.416999816894531, 4.416999816894531, 4.416999816894531, 4.416999816894531, 4.416999816894531, 4.416999816894531, 4.416999816894531, 4.416999816894531, 4.416999816894531, 4.416999816894531, 4.416999816894531, 4.416999816894531, 4.416999816894531, 4.416999816894531, 4.416999816894531, 4.416999816894531, 4.416999816894531, 4.416999816894531, 4.416999816894531, 4.416999816894531, 4.416999816894531, 4.416999816894531, 4.416999816894531, 4.416999816894531, 4.416999816894531, 4.416999816894531, 4.416999816894531, 4.416999816894531, 4.416999816894531, 4.416999816894531, 4.416999816894531, 4.416999816894531, 4.416999816894531, 4.416999816894531, 4.416999816894531, 4.416999816894531, 4.416999816894531, 4.416999816894531, 4.416999816894531, 4.416999816894531, 4.416999816894531, 4.416999816894531, 4.416999816894531, 4.416999816894531, 4.416999816894531, 4.416999816894531, 4.416999816894531, 4.416999816894531, 4.416999816894531, 4.416999816894531, 4.416999816894531, 4.416999816894531, 4.416999816894531, 4.416999816894531, 4.416999816894531, 4.416999816894531, 4.416999816894531, 4.416999816894531, 4.416999816894531, 4.416999816894531, 4.416999816894531, 4.416999816894531, 4.416999816894531, 4.416999816894531, 4.416999816894531, 4.416999816894531, 4.416999816894531, 4.416999816894531, 4.416999816894531, 4.416999816894531, 4.416999816894531, 4.416999816894531, 4.416999816894531, 4.416999816894531, 4.416999816894531, 4.416999816894531, 4.416999816894531, 4.416999816894531, 4.416999816894531, 4.416999816894531, 4.416999816894531]}, {\"line\": {\"color\": \"limegreen\", \"dash\": \"dash\"}, \"mode\": \"lines\", \"name\": \"Historical min\", \"type\": \"scatter\", \"x\": [\"2013-04-20\", \"2013-04-21\", \"2013-04-22\", \"2013-04-23\", \"2013-04-24\", \"2013-04-25\", \"2013-04-26\", \"2013-04-27\", \"2013-04-28\", \"2013-04-29\", \"2013-04-30\", \"2013-05-01\", \"2013-05-02\", \"2013-05-03\", \"2013-05-04\", \"2013-05-05\", \"2013-05-06\", \"2013-05-07\", \"2013-05-08\", \"2013-05-09\", \"2013-05-10\", \"2013-05-11\", \"2013-05-12\", \"2013-05-13\", \"2013-05-14\", \"2013-05-15\", \"2013-05-16\", \"2013-05-17\", \"2013-05-18\", \"2013-05-19\", \"2013-05-20\", \"2013-05-21\", \"2013-05-22\", \"2013-05-23\", \"2013-05-24\", \"2013-05-25\", \"2013-05-26\", \"2013-05-27\", \"2013-05-28\", \"2013-05-29\", \"2013-05-30\", \"2013-05-31\", \"2013-06-01\", \"2013-06-02\", \"2013-06-03\", \"2013-06-04\", \"2013-06-05\", \"2013-06-06\", \"2013-06-07\", \"2013-06-08\", \"2013-06-09\", \"2013-06-10\", \"2013-06-11\", \"2013-06-12\", \"2013-06-13\", \"2013-06-14\", \"2013-06-15\", \"2013-06-16\", \"2013-06-17\", \"2013-06-18\", \"2013-06-19\", \"2013-06-20\", \"2013-06-21\", \"2013-06-22\", \"2013-06-23\", \"2013-06-24\", \"2013-06-25\", \"2013-06-26\", \"2013-06-27\", \"2013-06-28\", \"2013-06-29\", \"2013-06-30\", \"2013-07-01\", \"2013-07-02\", \"2013-07-03\", \"2013-07-04\", \"2013-07-05\", \"2013-07-06\", \"2013-07-07\", \"2013-07-08\", \"2013-07-09\", \"2013-07-10\", \"2013-07-11\", \"2013-07-12\", \"2013-07-13\", \"2013-07-14\", \"2013-07-15\", \"2013-07-16\", \"2013-07-17\", \"2013-07-18\", \"2013-07-19\", \"2013-07-20\"], \"y\": [2.444000005722046, 2.444000005722046, 2.444000005722046, 2.444000005722046, 2.444000005722046, 2.444000005722046, 2.444000005722046, 2.444000005722046, 2.444000005722046, 2.444000005722046, 2.444000005722046, 2.444000005722046, 2.444000005722046, 2.444000005722046, 2.444000005722046, 2.444000005722046, 2.444000005722046, 2.444000005722046, 2.444000005722046, 2.444000005722046, 2.444000005722046, 2.444000005722046, 2.444000005722046, 2.444000005722046, 2.444000005722046, 2.444000005722046, 2.444000005722046, 2.444000005722046, 2.444000005722046, 2.444000005722046, 2.444000005722046, 2.444000005722046, 2.444000005722046, 2.444000005722046, 2.444000005722046, 2.444000005722046, 2.444000005722046, 2.444000005722046, 2.444000005722046, 2.444000005722046, 2.444000005722046, 2.444000005722046, 2.444000005722046, 2.444000005722046, 2.444000005722046, 2.444000005722046, 2.444000005722046, 2.444000005722046, 2.444000005722046, 2.444000005722046, 2.444000005722046, 2.444000005722046, 2.444000005722046, 2.444000005722046, 2.444000005722046, 2.444000005722046, 2.444000005722046, 2.444000005722046, 2.444000005722046, 2.444000005722046, 2.444000005722046, 2.444000005722046, 2.444000005722046, 2.444000005722046, 2.444000005722046, 2.444000005722046, 2.444000005722046, 2.444000005722046, 2.444000005722046, 2.444000005722046, 2.444000005722046, 2.444000005722046, 2.444000005722046, 2.444000005722046, 2.444000005722046, 2.444000005722046, 2.444000005722046, 2.444000005722046, 2.444000005722046, 2.444000005722046, 2.444000005722046, 2.444000005722046, 2.444000005722046, 2.444000005722046, 2.444000005722046, 2.444000005722046, 2.444000005722046, 2.444000005722046, 2.444000005722046, 2.444000005722046, 2.444000005722046, 2.444000005722046]}, {\"line\": {\"color\": \"cornflowerblue\", \"dash\": \"solid\"}, \"mode\": \"lines\", \"name\": \"Current value\", \"type\": \"scatter\", \"x\": [\"2013-04-20\", \"2013-04-21\", \"2013-04-22\", \"2013-04-23\", \"2013-04-24\", \"2013-04-25\", \"2013-04-26\", \"2013-04-27\", \"2013-04-28\", \"2013-04-29\", \"2013-04-30\", \"2013-05-01\", \"2013-05-02\", \"2013-05-03\", \"2013-05-04\", \"2013-05-05\", \"2013-05-06\", \"2013-05-07\", \"2013-05-08\", \"2013-05-09\", \"2013-05-10\", \"2013-05-11\", \"2013-05-12\", \"2013-05-13\", \"2013-05-14\", \"2013-05-15\", \"2013-05-16\", \"2013-05-17\", \"2013-05-18\", \"2013-05-19\", \"2013-05-20\", \"2013-05-21\", \"2013-05-22\", \"2013-05-23\", \"2013-05-24\", \"2013-05-25\", \"2013-05-26\", \"2013-05-27\", \"2013-05-28\", \"2013-05-29\", \"2013-05-30\", \"2013-05-31\", \"2013-06-01\", \"2013-06-02\", \"2013-06-03\", \"2013-06-04\", \"2013-06-05\", \"2013-06-06\", \"2013-06-07\", \"2013-06-08\", \"2013-06-09\", \"2013-06-10\", \"2013-06-11\", \"2013-06-12\", \"2013-06-13\", \"2013-06-14\", \"2013-06-15\", \"2013-06-16\", \"2013-06-17\", \"2013-06-18\", \"2013-06-19\", \"2013-06-20\", \"2013-06-21\", \"2013-06-22\", \"2013-06-23\", \"2013-06-24\", \"2013-06-25\", \"2013-06-26\", \"2013-06-27\", \"2013-06-28\", \"2013-06-29\", \"2013-06-30\", \"2013-07-01\", \"2013-07-02\", \"2013-07-03\", \"2013-07-04\", \"2013-07-05\", \"2013-07-06\", \"2013-07-07\", \"2013-07-08\", \"2013-07-09\", \"2013-07-10\", \"2013-07-11\", \"2013-07-12\", \"2013-07-13\", \"2013-07-14\", \"2013-07-15\", \"2013-07-16\", \"2013-07-17\", \"2013-07-18\", \"2013-07-19\", \"2013-07-20\"], \"y\": [3.0290000438690186, 3.0290000438690186, 3.0290000438690186, 3.0290000438690186, 3.0290000438690186, 3.0290000438690186, 3.0290000438690186, 3.0290000438690186, 3.0290000438690186, 3.0290000438690186, 3.0290000438690186, 3.0290000438690186, 3.0290000438690186, 3.0290000438690186, 3.0290000438690186, 3.0290000438690186, 3.0290000438690186, 3.0290000438690186, 3.0290000438690186, 3.0290000438690186, 3.0290000438690186, 3.0290000438690186, 3.0290000438690186, 3.0290000438690186, 3.0290000438690186, 3.0290000438690186, 3.0290000438690186, 3.0290000438690186, 3.0290000438690186, 3.0290000438690186, 3.0290000438690186, 3.0290000438690186, 3.0290000438690186, 3.0290000438690186, 3.0290000438690186, 3.0290000438690186, 3.0290000438690186, 3.0290000438690186, 3.0290000438690186, 3.0290000438690186, 3.0290000438690186, 3.0290000438690186, 3.0290000438690186, 3.0290000438690186, 3.0290000438690186, 3.0290000438690186, 3.0290000438690186, 3.0290000438690186, 3.0290000438690186, 3.0290000438690186, 3.0290000438690186, 3.0290000438690186, 3.0290000438690186, 3.0290000438690186, 3.0290000438690186, 3.0290000438690186, 3.0290000438690186, 3.0290000438690186, 3.0290000438690186, 3.0290000438690186, 3.0290000438690186, 3.0290000438690186, 3.0290000438690186, 3.0290000438690186, 3.0290000438690186, 3.0290000438690186, 3.0290000438690186, 3.0290000438690186, 3.0290000438690186, 3.0290000438690186, 3.0290000438690186, 3.0290000438690186, 3.0290000438690186, 3.0290000438690186, 3.0290000438690186, 3.0290000438690186, 3.0290000438690186, 3.0290000438690186, 3.0290000438690186, 3.0290000438690186, 3.0290000438690186, 3.0290000438690186, 3.0290000438690186, 3.0290000438690186, 3.0290000438690186, 3.0290000438690186, 3.0290000438690186, 3.0290000438690186, 3.0290000438690186, 3.0290000438690186, 3.0290000438690186, 3.0290000438690186]}],                        {\"hovermode\": \"x unified\", \"legend\": {\"title\": {\"text\": \"Variable\"}, \"tracegroupgap\": 0}, \"template\": {\"data\": {\"bar\": [{\"error_x\": {\"color\": \"#2a3f5f\"}, \"error_y\": {\"color\": \"#2a3f5f\"}, \"marker\": {\"line\": {\"color\": \"white\", \"width\": 0.5}}, \"type\": \"bar\"}], \"barpolar\": [{\"marker\": {\"line\": {\"color\": \"white\", \"width\": 0.5}}, \"type\": \"barpolar\"}], \"carpet\": [{\"aaxis\": {\"endlinecolor\": \"#2a3f5f\", \"gridcolor\": \"#C8D4E3\", \"linecolor\": \"#C8D4E3\", \"minorgridcolor\": \"#C8D4E3\", \"startlinecolor\": \"#2a3f5f\"}, \"baxis\": {\"endlinecolor\": \"#2a3f5f\", \"gridcolor\": \"#C8D4E3\", \"linecolor\": \"#C8D4E3\", \"minorgridcolor\": \"#C8D4E3\", \"startlinecolor\": \"#2a3f5f\"}, \"type\": \"carpet\"}], \"choropleth\": [{\"colorbar\": {\"outlinewidth\": 0, \"ticks\": \"\"}, \"type\": \"choropleth\"}], \"contour\": [{\"colorbar\": {\"outlinewidth\": 0, \"ticks\": \"\"}, \"colorscale\": [[0.0, \"#0d0887\"], [0.1111111111111111, \"#46039f\"], [0.2222222222222222, \"#7201a8\"], [0.3333333333333333, \"#9c179e\"], [0.4444444444444444, \"#bd3786\"], [0.5555555555555556, \"#d8576b\"], [0.6666666666666666, \"#ed7953\"], [0.7777777777777778, \"#fb9f3a\"], [0.8888888888888888, \"#fdca26\"], [1.0, \"#f0f921\"]], \"type\": \"contour\"}], \"contourcarpet\": [{\"colorbar\": {\"outlinewidth\": 0, \"ticks\": \"\"}, \"type\": \"contourcarpet\"}], \"heatmap\": [{\"colorbar\": {\"outlinewidth\": 0, \"ticks\": \"\"}, \"colorscale\": [[0.0, \"#0d0887\"], [0.1111111111111111, \"#46039f\"], [0.2222222222222222, \"#7201a8\"], [0.3333333333333333, \"#9c179e\"], [0.4444444444444444, \"#bd3786\"], [0.5555555555555556, \"#d8576b\"], [0.6666666666666666, \"#ed7953\"], [0.7777777777777778, \"#fb9f3a\"], [0.8888888888888888, \"#fdca26\"], [1.0, \"#f0f921\"]], \"type\": \"heatmap\"}], \"heatmapgl\": [{\"colorbar\": {\"outlinewidth\": 0, \"ticks\": \"\"}, \"colorscale\": [[0.0, \"#0d0887\"], [0.1111111111111111, \"#46039f\"], [0.2222222222222222, \"#7201a8\"], [0.3333333333333333, \"#9c179e\"], [0.4444444444444444, \"#bd3786\"], [0.5555555555555556, \"#d8576b\"], [0.6666666666666666, \"#ed7953\"], [0.7777777777777778, \"#fb9f3a\"], [0.8888888888888888, \"#fdca26\"], [1.0, \"#f0f921\"]], \"type\": \"heatmapgl\"}], \"histogram\": [{\"marker\": {\"colorbar\": {\"outlinewidth\": 0, \"ticks\": \"\"}}, \"type\": \"histogram\"}], \"histogram2d\": [{\"colorbar\": {\"outlinewidth\": 0, \"ticks\": \"\"}, \"colorscale\": [[0.0, \"#0d0887\"], [0.1111111111111111, \"#46039f\"], [0.2222222222222222, \"#7201a8\"], [0.3333333333333333, \"#9c179e\"], [0.4444444444444444, \"#bd3786\"], [0.5555555555555556, \"#d8576b\"], [0.6666666666666666, \"#ed7953\"], [0.7777777777777778, \"#fb9f3a\"], [0.8888888888888888, \"#fdca26\"], [1.0, \"#f0f921\"]], \"type\": \"histogram2d\"}], \"histogram2dcontour\": [{\"colorbar\": {\"outlinewidth\": 0, \"ticks\": \"\"}, \"colorscale\": [[0.0, \"#0d0887\"], [0.1111111111111111, \"#46039f\"], [0.2222222222222222, \"#7201a8\"], [0.3333333333333333, \"#9c179e\"], [0.4444444444444444, \"#bd3786\"], [0.5555555555555556, \"#d8576b\"], [0.6666666666666666, \"#ed7953\"], [0.7777777777777778, \"#fb9f3a\"], [0.8888888888888888, \"#fdca26\"], [1.0, \"#f0f921\"]], \"type\": \"histogram2dcontour\"}], \"mesh3d\": [{\"colorbar\": {\"outlinewidth\": 0, \"ticks\": \"\"}, \"type\": \"mesh3d\"}], \"parcoords\": [{\"line\": {\"colorbar\": {\"outlinewidth\": 0, \"ticks\": \"\"}}, \"type\": \"parcoords\"}], \"pie\": [{\"automargin\": true, \"type\": \"pie\"}], \"scatter\": [{\"marker\": {\"colorbar\": {\"outlinewidth\": 0, \"ticks\": \"\"}}, \"type\": \"scatter\"}], \"scatter3d\": [{\"line\": {\"colorbar\": {\"outlinewidth\": 0, \"ticks\": \"\"}}, \"marker\": {\"colorbar\": {\"outlinewidth\": 0, \"ticks\": \"\"}}, \"type\": \"scatter3d\"}], \"scattercarpet\": [{\"marker\": {\"colorbar\": {\"outlinewidth\": 0, \"ticks\": \"\"}}, \"type\": \"scattercarpet\"}], \"scattergeo\": [{\"marker\": {\"colorbar\": {\"outlinewidth\": 0, \"ticks\": \"\"}}, \"type\": \"scattergeo\"}], \"scattergl\": [{\"marker\": {\"colorbar\": {\"outlinewidth\": 0, \"ticks\": \"\"}}, \"type\": \"scattergl\"}], \"scattermapbox\": [{\"marker\": {\"colorbar\": {\"outlinewidth\": 0, \"ticks\": \"\"}}, \"type\": \"scattermapbox\"}], \"scatterpolar\": [{\"marker\": {\"colorbar\": {\"outlinewidth\": 0, \"ticks\": \"\"}}, \"type\": \"scatterpolar\"}], \"scatterpolargl\": [{\"marker\": {\"colorbar\": {\"outlinewidth\": 0, \"ticks\": \"\"}}, \"type\": \"scatterpolargl\"}], \"scatterternary\": [{\"marker\": {\"colorbar\": {\"outlinewidth\": 0, \"ticks\": \"\"}}, \"type\": \"scatterternary\"}], \"surface\": [{\"colorbar\": {\"outlinewidth\": 0, \"ticks\": \"\"}, \"colorscale\": [[0.0, \"#0d0887\"], [0.1111111111111111, \"#46039f\"], [0.2222222222222222, \"#7201a8\"], [0.3333333333333333, \"#9c179e\"], [0.4444444444444444, \"#bd3786\"], [0.5555555555555556, \"#d8576b\"], [0.6666666666666666, \"#ed7953\"], [0.7777777777777778, \"#fb9f3a\"], [0.8888888888888888, \"#fdca26\"], [1.0, \"#f0f921\"]], \"type\": \"surface\"}], \"table\": [{\"cells\": {\"fill\": {\"color\": \"#EBF0F8\"}, \"line\": {\"color\": \"white\"}}, \"header\": {\"fill\": {\"color\": \"#C8D4E3\"}, \"line\": {\"color\": \"white\"}}, \"type\": \"table\"}]}, \"layout\": {\"annotationdefaults\": {\"arrowcolor\": \"#2a3f5f\", \"arrowhead\": 0, \"arrowwidth\": 1}, \"autotypenumbers\": \"strict\", \"coloraxis\": {\"colorbar\": {\"outlinewidth\": 0, \"ticks\": \"\"}}, \"colorscale\": {\"diverging\": [[0, \"#8e0152\"], [0.1, \"#c51b7d\"], [0.2, \"#de77ae\"], [0.3, \"#f1b6da\"], [0.4, \"#fde0ef\"], [0.5, \"#f7f7f7\"], [0.6, \"#e6f5d0\"], [0.7, \"#b8e186\"], [0.8, \"#7fbc41\"], [0.9, \"#4d9221\"], [1, \"#276419\"]], \"sequential\": [[0.0, \"#0d0887\"], [0.1111111111111111, \"#46039f\"], [0.2222222222222222, \"#7201a8\"], [0.3333333333333333, \"#9c179e\"], [0.4444444444444444, \"#bd3786\"], [0.5555555555555556, \"#d8576b\"], [0.6666666666666666, \"#ed7953\"], [0.7777777777777778, \"#fb9f3a\"], [0.8888888888888888, \"#fdca26\"], [1.0, \"#f0f921\"]], \"sequentialminus\": [[0.0, \"#0d0887\"], [0.1111111111111111, \"#46039f\"], [0.2222222222222222, \"#7201a8\"], [0.3333333333333333, \"#9c179e\"], [0.4444444444444444, \"#bd3786\"], [0.5555555555555556, \"#d8576b\"], [0.6666666666666666, \"#ed7953\"], [0.7777777777777778, \"#fb9f3a\"], [0.8888888888888888, \"#fdca26\"], [1.0, \"#f0f921\"]]}, \"colorway\": [\"#636efa\", \"#EF553B\", \"#00cc96\", \"#ab63fa\", \"#FFA15A\", \"#19d3f3\", \"#FF6692\", \"#B6E880\", \"#FF97FF\", \"#FECB52\"], \"font\": {\"color\": \"#2a3f5f\"}, \"geo\": {\"bgcolor\": \"white\", \"lakecolor\": \"white\", \"landcolor\": \"white\", \"showlakes\": true, \"showland\": true, \"subunitcolor\": \"#C8D4E3\"}, \"hoverlabel\": {\"align\": \"left\"}, \"hovermode\": \"closest\", \"mapbox\": {\"style\": \"light\"}, \"paper_bgcolor\": \"white\", \"plot_bgcolor\": \"white\", \"polar\": {\"angularaxis\": {\"gridcolor\": \"#EBF0F8\", \"linecolor\": \"#EBF0F8\", \"ticks\": \"\"}, \"bgcolor\": \"white\", \"radialaxis\": {\"gridcolor\": \"#EBF0F8\", \"linecolor\": \"#EBF0F8\", \"ticks\": \"\"}}, \"scene\": {\"xaxis\": {\"backgroundcolor\": \"white\", \"gridcolor\": \"#DFE8F3\", \"gridwidth\": 2, \"linecolor\": \"#EBF0F8\", \"showbackground\": true, \"ticks\": \"\", \"zerolinecolor\": \"#EBF0F8\"}, \"yaxis\": {\"backgroundcolor\": \"white\", \"gridcolor\": \"#DFE8F3\", \"gridwidth\": 2, \"linecolor\": \"#EBF0F8\", \"showbackground\": true, \"ticks\": \"\", \"zerolinecolor\": \"#EBF0F8\"}, \"zaxis\": {\"backgroundcolor\": \"white\", \"gridcolor\": \"#DFE8F3\", \"gridwidth\": 2, \"linecolor\": \"#EBF0F8\", \"showbackground\": true, \"ticks\": \"\", \"zerolinecolor\": \"#EBF0F8\"}}, \"shapedefaults\": {\"line\": {\"color\": \"#2a3f5f\"}}, \"ternary\": {\"aaxis\": {\"gridcolor\": \"#DFE8F3\", \"linecolor\": \"#A2B1C6\", \"ticks\": \"\"}, \"baxis\": {\"gridcolor\": \"#DFE8F3\", \"linecolor\": \"#A2B1C6\", \"ticks\": \"\"}, \"bgcolor\": \"white\", \"caxis\": {\"gridcolor\": \"#DFE8F3\", \"linecolor\": \"#A2B1C6\", \"ticks\": \"\"}}, \"title\": {\"x\": 0.05}, \"xaxis\": {\"automargin\": true, \"gridcolor\": \"#EBF0F8\", \"linecolor\": \"#EBF0F8\", \"ticks\": \"\", \"title\": {\"standoff\": 15}, \"zerolinecolor\": \"#EBF0F8\", \"zerolinewidth\": 2}, \"yaxis\": {\"automargin\": true, \"gridcolor\": \"#EBF0F8\", \"linecolor\": \"#EBF0F8\", \"ticks\": \"\", \"title\": {\"standoff\": 15}, \"zerolinecolor\": \"#EBF0F8\", \"zerolinewidth\": 2}}}, \"title\": {\"text\": \"Water level at station 08MH147\"}, \"xaxis\": {\"anchor\": \"y\", \"domain\": [0.0, 1.0], \"title\": {\"text\": \"Date\"}}, \"yaxis\": {\"anchor\": \"x\", \"domain\": [0.0, 1.0], \"range\": [2.344000005722046, 4.516999816894531], \"title\": {\"text\": \"Water level (m)\"}}},                        {\"responsive\": true}                    ).then(function(){\n",
       "                            \n",
       "var gd = document.getElementById('879a27cd-269e-4964-af67-5467000a2c0c');\n",
       "var x = new MutationObserver(function (mutations, observer) {{\n",
       "        var display = window.getComputedStyle(gd).display;\n",
       "        if (!display || display === 'none') {{\n",
       "            console.log([gd, 'removed!']);\n",
       "            Plotly.purge(gd);\n",
       "            observer.disconnect();\n",
       "        }}\n",
       "}});\n",
       "\n",
       "// Listen for the removal of the full notebook cells\n",
       "var notebookContainer = gd.closest('#notebook-container');\n",
       "if (notebookContainer) {{\n",
       "    x.observe(notebookContainer, {childList: true});\n",
       "}}\n",
       "\n",
       "// Listen for the clearing of the current output cell\n",
       "var outputEl = gd.closest('.output');\n",
       "if (outputEl) {{\n",
       "    x.observe(outputEl, {childList: true});\n",
       "}}\n",
       "\n",
       "                        })                };                });            </script>        </div>"
      ]
     },
     "metadata": {},
     "output_type": "display_data"
    }
   ],
   "source": [
    "# Creation of interactive plots\n",
    "\n",
    "pd.options.plotting.backend = 'plotly'\n",
    "\n",
    "# Function to add constant functions to the plot\n",
    "def constantLine(station, yValue, varName, lineColor='black', lineType='solid'):\n",
    "    fig.add_scatter(y=[yValue] * len(waterLevel[station].index),\n",
    "                x=waterLevel[station].index, \n",
    "                mode='lines',\n",
    "                name=varName,\n",
    "                line=dict(color=lineColor, \n",
    "                          dash=lineType)\n",
    "                )\n",
    "    \n",
    "    \n",
    "station = '08MH147'\n",
    "\n",
    "# Creation of the plot\n",
    "fig = waterLevel[station].plot(title='Water level at station {}'.format(station), \n",
    "                               template='plotly_white',\n",
    "                               labels=dict(index='Date', \n",
    "                                           value='Water level (m)', \n",
    "                                           variable='Variable'),\n",
    "                               color_discrete_sequence=['gray'])\n",
    "\n",
    "# Adding the historical maximum and minimum and the current value\n",
    "constantLine(station, \n",
    "             float(waterLevel[station].max()), \n",
    "             'Historical max', \n",
    "             'red', \n",
    "             'dash')\n",
    "constantLine(station, \n",
    "             float(waterLevel[station].min()), \n",
    "             'Historical min', \n",
    "             'limegreen', \n",
    "             'dash')\n",
    "constantLine(station, \n",
    "             waterLevel[station].iloc[-1][0], \n",
    "             'Current value', \n",
    "             'cornflowerblue')\n",
    "\n",
    "# Updating some plot parameters\n",
    "fig.update_traces(hovertemplate=None)\n",
    "fig.update_layout(hovermode='x unified')\n",
    "fig.update_layout(yaxis=dict(range=[float(waterLevel[station].min() - 0.1),\n",
    "                                    float(waterLevel[station].max() + 0.1)]))\n",
    "# fig.update_xaxes(tickformat=\"%Y-%m-%d\")\n",
    "\n",
    "iplot(fig)"
   ]
  },
  {
   "cell_type": "code",
   "execution_count": null,
   "metadata": {},
   "outputs": [],
   "source": []
  }
 ],
 "metadata": {
  "kernelspec": {
   "display_name": "Python 3",
   "language": "python",
   "name": "python3"
  },
  "language_info": {
   "codemirror_mode": {
    "name": "ipython",
    "version": 3
   },
   "file_extension": ".py",
   "mimetype": "text/x-python",
   "name": "python",
   "nbconvert_exporter": "python",
   "pygments_lexer": "ipython3",
   "version": "3.7.4"
  }
 },
 "nbformat": 4,
 "nbformat_minor": 4
}
