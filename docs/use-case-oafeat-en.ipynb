{
 "cells": [
  {
   "attachments": {},
   "cell_type": "markdown",
   "metadata": {},
   "source": [
    "[En français](../use-case-oafeat-en/)  \n",
    "\n",
    "![ECCC logo](https://eccc-msc.github.io/open-data/img_eccc-logo.png)  \n",
    "\n",
    "[TOC](https://eccc-msc.github.io/open-data/readme_en/) > [Usage overview](https://eccc-msc.github.io/open-data/usage/readme_en/) > OGC API - Features request in Python\n",
    "\n",
    "# Use case: Tracking water level with GeoMet-OGC-API\n",
    "\n",
    "## Introduction\n",
    "\n",
    "Hydrometric data from the Meteorological Service of Canada (MSC) and Environment and Climate Change Canada (ECCC) can be easily accessed via [GeoMet-OGC-API](https://geo.weather.gc.ca/geomet/features/?f=html). The [OGC API - Features](https://eccc-msc.github.io/open-data/msc-geomet/web-services_en/#ogc-api-features) web services available in [GeoMet-OGC-API](https://geo.weather.gc.ca/geomet/features/?f=html) offer the capability to query vector geospatial data and retrieve it in a GeoJSON format. The GeoJSON file can than be used for display or further data processing. This use case will show you how you can:\n",
    "* Query and retrieve vector geospatial data from [GeoMet-OGC-API](https://geo.weather.gc.ca/geomet/features/?f=html) with [Python](https://www.python.org/)\n",
    "* Display the retrieved data on a web map\n",
    "* Analyse the data and display the results in graphic and tabular format\n",
    "* Export the data in a format of your choice\n",
    "\n",
    "An [interactive version of this Jupyter Notebook is available](https://mybinder.org/v2/gh/marieevelb/oafeat-use-case/main?filepath=docs%2Fuse-case-oafeat-en.ipynb)\n",
    "\n",
    "[![badge](https://img.shields.io/badge/Interactive%20version-binder-F5A252.svg?logo=data:image/png;base64,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)](https://mybinder.org/v2/gh/marieevelb/oafeat-use-case/main?filepath=docs%2Fuse-case-oafeat-en.ipynb)\n",
    "\n",
    "## Creation of a tool to track water level \n",
    "\n",
    "Cathy runs a boat tours and water sports company in Chilliwack, British-Columbia. She would like to track the water level of a few hydrometric stations near her city to guide the management of the company activities. She would like to have:\n",
    "* An overview of the distribution of the daily water level of the past 3 months for all hydrometric stations located within 100 km of the city of Chilliwack (minimum, first quartile, median, third quartile and maximum) \n",
    "* A graphic view that presents the provisional daily mean water level of the past 3 months with a color code to indicate the water level status\n",
    "* A tabular view that shows the provisional daily mean water level of the past 3 months with the same color code\n",
    "* A web map that displays the hydrometric stations located within 100 km of the city of Chilliwack and the most recent provisional daily mean water level of these stations with the appropriate color code\n",
    "* The provisional daily mean water level of the past 3 months in a WaterML2.0 format for exportation\n",
    "\n",
    "To achieve this, the first step is to retrieve the water level data from [GeoMet-OGC-API](https://geo.weather.gc.ca/geomet/features/?f=html) with Python."
   ]
  },
  {
   "cell_type": "code",
   "execution_count": 1,
   "metadata": {},
   "outputs": [],
   "source": [
    "# Module importation\n",
    "from datetime import date\n",
    "\n",
    "from dateutil.relativedelta import relativedelta\n",
    "import pandas as pd\n",
    "from owslib.ogcapi.features import Features\n",
    "from osgeo import ogr, osr"
   ]
  },
  {
   "cell_type": "code",
   "execution_count": 2,
   "metadata": {},
   "outputs": [],
   "source": [
    "# Parameters\n",
    "\n",
    "# Coordinates\n",
    "lat = 49.162676\n",
    "long = -121.958943\n",
    "\n",
    "# Buffer size in kilometer\n",
    "buffer = 100\n",
    "\n",
    "# Number of months used to analyse historical data\n",
    "numMonths = 3\n",
    "\n",
    "# Prefered projection\n",
    "# NAD83 / Statistics Canada Lambert\n",
    "projection = 3347 "
   ]
  },
  {
   "cell_type": "code",
   "execution_count": 3,
   "metadata": {},
   "outputs": [],
   "source": [
    "# Generating parameters for the OGC API - Features request\n",
    "\n",
    "# Bounding box a little bigger than buffer size (1 km ≈ 0.01°)\n",
    "bbox = [str(long-(buffer/2)*0.01),\n",
    "        str(lat-(buffer/2)*0.01),\n",
    "        str(long+(buffer/2)*0.01),\n",
    "        str(lat+(buffer/2)*0.01)\n",
    "       ]\n",
    "\n",
    "# Time\n",
    "endDate = date.today()\n",
    "endDate = date(2013, 7, 20) # Available data to test the code, will not be in final use case\n",
    "startDate = endDate - relativedelta(months=numMonths)\n",
    "startDate = startDate.strftime(\"%Y-%m-%d\")\n",
    "time = f'{startDate}/{endDate}'"
   ]
  },
  {
   "cell_type": "code",
   "execution_count": 4,
   "metadata": {},
   "outputs": [],
   "source": [
    "# Retrieval of hydrometric stations data\n",
    "oafeat = Features('https://geo.weather.gc.ca/geomet/features')\n",
    "stationData = oafeat.collection_items('hydrometric-stations', \n",
    "                                      bbox=bbox, \n",
    "                                      STATUS_EN='Active')"
   ]
  },
  {
   "cell_type": "code",
   "execution_count": 5,
   "metadata": {},
   "outputs": [],
   "source": [
    "# Generating a list of stations inside the buffer zone\n",
    "\n",
    "# Set the driver\n",
    "driver = ogr.GetDriverByName('GeoJSON')\n",
    "\n",
    "# Create a datasource and get the layer\n",
    "stationData = str(stationData).replace(\"'\", '\"').replace(\"None\", \"null\")\n",
    "dataSource = driver.Open(stationData, 0) # 0 means read-only. 1 means writeable.\n",
    "layer = dataSource.GetLayer()\n",
    "\n",
    "# Identify input spatial reference system\n",
    "srsInput = layer.GetSpatialRef()\n",
    "sr = osr.SpatialReference(str(srsInput))\n",
    "epsg = sr.GetAuthorityCode(None)\n",
    "srsInput.ImportFromEPSG(int(epsg))\n",
    "\n",
    "# Spatial reference system used to project data\n",
    "srsProjected = osr.SpatialReference()\n",
    "srsProjected.ImportFromEPSG(projection)\n",
    "\n",
    "# Transformation from input srs to NAD83 / Statistics Canada Lambert\n",
    "transform = osr.CoordinateTransformation(srsInput, srsProjected)\n",
    "\n",
    "# Create a buffer to select stations\n",
    "point = ogr.Geometry(ogr.wkbPoint)\n",
    "point.AddPoint(long, lat)\n",
    "point.Transform(transform)\n",
    "pointBuffer = point.Buffer(buffer*1000) # The value must be in meters\n",
    "\n",
    "# Select the stations in the buffer zone\n",
    "stations = []\n",
    "for feature in layer:\n",
    "    geom = feature.GetGeometryRef().Clone()\n",
    "    geom.Transform(transform)\n",
    "    if geom.Intersects(pointBuffer):\n",
    "        stations.append(feature.GetField('STATION_NUMBER'))"
   ]
  },
  {
   "cell_type": "code",
   "execution_count": 6,
   "metadata": {},
   "outputs": [
    {
     "name": "stdout",
     "output_type": "stream",
     "text": [
      "18\n",
      "['08MF072', '08MF073', '08MG001', '08MG012', '08MG013', '08MG014', '08MG022', '08MH056', '08MF005', '08MH001', '08MH016', '08MH024', '08MH029', '08MF035', '08MH103', '08MH147', '08MH153', '08MH167']\n"
     ]
    }
   ],
   "source": [
    "# Temporary prints, will not be in the final use case\n",
    "print(len(stations))\n",
    "print(stations)"
   ]
  },
  {
   "cell_type": "code",
   "execution_count": 7,
   "metadata": {},
   "outputs": [],
   "source": [
    "# Retrieval of hydrometric data for each station\n",
    "\n",
    "# Dictionary that will contain a data frame for each station \n",
    "waterLevel = {}\n",
    "\n",
    "# Retrieval of the data and creation of the data frames\n",
    "for station in stations:\n",
    "    hydroData = oafeat.collection_items(\n",
    "        'hydrometric-daily-mean',\n",
    "        bbox=bbox,\n",
    "        time=time,\n",
    "        STATION_NUMBER=station\n",
    "    )\n",
    "    dates = []\n",
    "    levelValues = []\n",
    "    for feature in hydroData['features']:\n",
    "        dates.append(feature['properties']['DATE'])\n",
    "        levelValues.append(feature['properties']['LEVEL'])\n",
    "    waterLevelData = {'Daily mean': levelValues}\n",
    "    dfWaterLevel = pd.DataFrame(waterLevelData, index=dates, columns=['Daily mean'])\n",
    "    waterLevel[station] = dfWaterLevel "
   ]
  },
  {
   "cell_type": "code",
   "execution_count": 15,
   "metadata": {},
   "outputs": [
    {
     "data": {
      "text/html": [
       "<iframe\n",
       "    scrolling=\"no\"\n",
       "    width=\"100%\"\n",
       "    height=\"545px\"\n",
       "    src=\"iframe_figures/figure_15.html\"\n",
       "    frameborder=\"0\"\n",
       "    allowfullscreen\n",
       "></iframe>\n"
      ]
     },
     "metadata": {},
     "output_type": "display_data"
    }
   ],
   "source": [
    "# Creation of interactive plots\n",
    "\n",
    "pd.options.plotting.backend = 'plotly'\n",
    "\n",
    "# Function to add constant functions to the plot\n",
    "def constantLine(station, yValue, varName, lineColor='black', lineType='solid'):\n",
    "    fig.add_scatter(y=[yValue] * len(waterLevel[station].index),\n",
    "                x=waterLevel[station].index, \n",
    "                mode='lines',\n",
    "                name=varName,\n",
    "                line=dict(color=lineColor, \n",
    "                          dash=lineType)\n",
    "                )\n",
    "    \n",
    "    \n",
    "station = '08MH147'\n",
    "\n",
    "# Creation of the plot\n",
    "fig = waterLevel[station].plot(title='Water level at station {}'.format(station), \n",
    "                               template='plotly_white',\n",
    "                               labels=dict(index='Date', \n",
    "                                           value='Water level (m)', \n",
    "                                           variable='Variable'),\n",
    "                               color_discrete_sequence=['gray'])\n",
    "\n",
    "# Adding the historical maximum and minimum and the current value\n",
    "constantLine(station, \n",
    "             float(waterLevel[station].max()), \n",
    "             'Historical max', \n",
    "             'red', \n",
    "             'dash')\n",
    "constantLine(station, \n",
    "             float(waterLevel[station].min()), \n",
    "             'Historical min', \n",
    "             'limegreen', \n",
    "             'dash')\n",
    "constantLine(station, \n",
    "             waterLevel[station].iloc[-1][0], \n",
    "             'Current value', \n",
    "             'cornflowerblue')\n",
    "\n",
    "# Updating some plot parameters\n",
    "fig.update_traces(hovertemplate=None)\n",
    "fig.update_layout(hovermode='x unified')\n",
    "fig.update_layout(yaxis=dict(range=[float(waterLevel[station].min() - 0.1),\n",
    "                                    float(waterLevel[station].max() + 0.1)]))\n",
    "# fig.update_xaxes(tickformat=\"%Y-%m-%d\")\n",
    "\n",
    "fig.show(renderer='iframe_connected')"
   ]
  },
  {
   "cell_type": "code",
   "execution_count": null,
   "metadata": {},
   "outputs": [],
   "source": []
  }
 ],
 "metadata": {
  "kernelspec": {
   "display_name": "Python 3",
   "language": "python",
   "name": "python3"
  },
  "language_info": {
   "codemirror_mode": {
    "name": "ipython",
    "version": 3
   },
   "file_extension": ".py",
   "mimetype": "text/x-python",
   "name": "python",
   "nbconvert_exporter": "python",
   "pygments_lexer": "ipython3",
   "version": "3.7.4"
  }
 },
 "nbformat": 4,
 "nbformat_minor": 4
}
